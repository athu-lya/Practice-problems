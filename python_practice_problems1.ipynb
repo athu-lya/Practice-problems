{
  "nbformat": 4,
  "nbformat_minor": 0,
  "metadata": {
    "colab": {
      "provenance": []
    },
    "kernelspec": {
      "name": "python3",
      "display_name": "Python 3"
    },
    "language_info": {
      "name": "python"
    }
  },
  "cells": [
    {
      "cell_type": "code",
      "execution_count": 1,
      "metadata": {
        "id": "EkLoenqao4Z5"
      },
      "outputs": [],
      "source": [
        "#write a Python program which accepts the radius of a circle from the user and compute the area"
      ]
    },
    {
      "cell_type": "code",
      "source": [
        "Radius=int(input('radius of the circle:'))\n",
        "Area=3.14*(Radius**2)\n",
        "print('Area of the circle=',Area)"
      ],
      "metadata": {
        "colab": {
          "base_uri": "https://localhost:8080/"
        },
        "id": "P3-rzLoBrr5B",
        "outputId": "272209b3-80fc-4c57-dfd0-c545304003be"
      },
      "execution_count": 2,
      "outputs": [
        {
          "output_type": "stream",
          "name": "stdout",
          "text": [
            "radius of the circle:3\n",
            "Area of the circle= 28.26\n"
          ]
        }
      ]
    },
    {
      "cell_type": "code",
      "source": [
        "#Write a Python Program to accept the details of a student like name, rollnumber and mark and display it."
      ],
      "metadata": {
        "id": "4t4bsykqsieI"
      },
      "execution_count": 9,
      "outputs": []
    },
    {
      "cell_type": "code",
      "source": [
        "name=input('Enter your name:')\n",
        "rollno=int(input('Enter your Roll no:'))\n",
        "mark=float(input('Enter your Mark:'))\n",
        "print('Name:',name)\n",
        "print('Roll no:',rollno)\n",
        "print('Mark:',mark)"
      ],
      "metadata": {
        "colab": {
          "base_uri": "https://localhost:8080/"
        },
        "id": "8gKyUvVft411",
        "outputId": "6a453fa9-201b-466b-a718-d684d092922f"
      },
      "execution_count": 11,
      "outputs": [
        {
          "output_type": "stream",
          "name": "stdout",
          "text": [
            "Enter your name:Anisha\n",
            "Enter your Roll no:21\n",
            "Enter your Mark:78\n",
            "Name: Anisha\n",
            "Roll no: 21\n",
            "Mark: 78.0\n"
          ]
        }
      ]
    },
    {
      "cell_type": "code",
      "source": [
        "#Write a Python program to get the largest number from a list. Sample input: 12, 3, 47, 10 Sample output: 47 is the largest number.\n"
      ],
      "metadata": {
        "id": "UmeCSi4UvUXU"
      },
      "execution_count": 13,
      "outputs": []
    },
    {
      "cell_type": "code",
      "source": [
        "x=[12,3,47,10]\n",
        "x.sort()\n",
        "print('The largest no is:',x[-1])"
      ],
      "metadata": {
        "colab": {
          "base_uri": "https://localhost:8080/"
        },
        "id": "aSqdBoBHvnla",
        "outputId": "fbf65c6f-e28c-4eda-8451-6de58279ea2d"
      },
      "execution_count": 14,
      "outputs": [
        {
          "output_type": "stream",
          "name": "stdout",
          "text": [
            "The largest no is: 47\n"
          ]
        }
      ]
    },
    {
      "cell_type": "code",
      "source": [
        "#. Given a range of first 10 numbers, write a Python program to iterate from 'start number to the end number and print the sum of the current numberand previous number.Sample input: 1,2,3,4,5,6,7,8,9,10Sample output: Current Number 1 Previous Number 0 Sum: 1 CurrentNumber 2 Previous Number 1 Sum: 3 Current Number 3 PreviousNumber 2 Sum: 5 Current Number 10 Previous Number 9 Sum: 19"
      ],
      "metadata": {
        "id": "w8-00Eb8woGZ"
      },
      "execution_count": 19,
      "outputs": []
    },
    {
      "cell_type": "code",
      "source": [
        "for i in range(1,11):\n",
        " sum=i+(i-1)\n",
        " print(\"current number\",i,\"previous number\",i-1,sum)\n"
      ],
      "metadata": {
        "colab": {
          "base_uri": "https://localhost:8080/"
        },
        "id": "1VtLfuWSxczc",
        "outputId": "7eed51f8-085f-410c-e386-4134bd9fc586"
      },
      "execution_count": 37,
      "outputs": [
        {
          "output_type": "stream",
          "name": "stdout",
          "text": [
            "current number 1 previous number 0 1\n",
            "current number 2 previous number 1 3\n",
            "current number 3 previous number 2 5\n",
            "current number 4 previous number 3 7\n",
            "current number 5 previous number 4 9\n",
            "current number 6 previous number 5 11\n",
            "current number 7 previous number 6 13\n",
            "current number 8 previous number 7 15\n",
            "current number 9 previous number 8 17\n",
            "current number 10 previous number 9 19\n"
          ]
        }
      ]
    },
    {
      "cell_type": "code",
      "source": [
        "#Write a Python program to print only those numbers which are divisibleof 5. Sample input: 10, 20,33,46,55 Sample output: 10, 20, 55"
      ],
      "metadata": {
        "id": "gAyI5gK62afK"
      },
      "execution_count": 39,
      "outputs": []
    },
    {
      "cell_type": "code",
      "source": [
        "n=[10,20,33,46,55]\n",
        "for i in n:\n",
        " if i%5==0:\n",
        "  print(i)"
      ],
      "metadata": {
        "colab": {
          "base_uri": "https://localhost:8080/"
        },
        "id": "p06zu-RU2qQu",
        "outputId": "eb150a4d-fb60-43b0-f5d1-a2429d3d5c04"
      },
      "execution_count": 49,
      "outputs": [
        {
          "output_type": "stream",
          "name": "stdout",
          "text": [
            "10\n",
            "20\n",
            "55\n"
          ]
        }
      ]
    },
    {
      "cell_type": "code",
      "source": [
        "#Write a Python program to check whether a number is prime or not. Sample input: Enter the number: 3 Sample output: 3 is a prime number"
      ],
      "metadata": {
        "id": "p5IXz4Ww4To4"
      },
      "execution_count": 50,
      "outputs": []
    },
    {
      "cell_type": "code",
      "source": [
        "n=int(input('Enter the number:'))\n",
        "flag=False\n",
        "if n==1:\n",
        "  print(n,\"is not a prime number\")\n",
        "elif n>1:\n",
        "    for i in range(2,n):\n",
        "      if (n%i)==0:\n",
        "        flag=True\n",
        "        break\n",
        "        if flag:\n",
        "          print(n,\"is not a prime number\")\n",
        "      else:\n",
        "            print(n,\"is a prime number\")"
      ],
      "metadata": {
        "colab": {
          "base_uri": "https://localhost:8080/"
        },
        "id": "RIOccHFs4hiA",
        "outputId": "cd7f60f7-bd7d-4b5b-c187-2f3e1f94259e"
      },
      "execution_count": 54,
      "outputs": [
        {
          "output_type": "stream",
          "name": "stdout",
          "text": [
            "Enter the number:3\n",
            "3 is a prime number\n"
          ]
        }
      ]
    },
    {
      "cell_type": "code",
      "source": [
        "#Write a Python program to reverse a list using for loop. Sample input: 10,40,30,70 Sample output: 70,30,40,10"
      ],
      "metadata": {
        "id": "75gbwppN6euQ"
      },
      "execution_count": 55,
      "outputs": []
    },
    {
      "cell_type": "code",
      "source": [
        "y=[]\n",
        "x=[10,40,30,70]\n",
        "for i in range(len(x)-1,-1,-1):\n",
        "  y.append(x[i])\n",
        "print(y)"
      ],
      "metadata": {
        "colab": {
          "base_uri": "https://localhost:8080/"
        },
        "id": "xLX6wjC86uo7",
        "outputId": "a40d5e51-5327-450c-d078-52406775751c"
      },
      "execution_count": 68,
      "outputs": [
        {
          "output_type": "stream",
          "name": "stdout",
          "text": [
            "[70, 30, 40, 10]\n"
          ]
        }
      ]
    },
    {
      "cell_type": "code",
      "source": [
        "#Write a Python program to print the following pattern.\n",
        "*\n",
        "**\n",
        "***\n",
        "****"
      ],
      "metadata": {
        "id": "9XIY7xKj9h5O"
      },
      "execution_count": 70,
      "outputs": []
    },
    {
      "cell_type": "code",
      "source": [
        "for i in range(4):\n",
        "  print(\"*\"*(i+1))"
      ],
      "metadata": {
        "colab": {
          "base_uri": "https://localhost:8080/"
        },
        "id": "xTfexblZ9z3k",
        "outputId": "383dbd6c-2332-4377-8271-d9a85e2850c3"
      },
      "execution_count": 71,
      "outputs": [
        {
          "output_type": "stream",
          "name": "stdout",
          "text": [
            "*\n",
            "**\n",
            "***\n",
            "****\n"
          ]
        }
      ]
    },
    {
      "cell_type": "code",
      "source": [
        "#Write a Python program to find the maximum of three numbers\n",
        "Sample input: 34,12,7\n",
        "Sample output: 34"
      ],
      "metadata": {
        "id": "aD0LtYOD-H1p"
      },
      "execution_count": null,
      "outputs": []
    },
    {
      "cell_type": "code",
      "source": [
        "x=(34,12,7)\n",
        "m=max(x)\n",
        "print(m)"
      ],
      "metadata": {
        "colab": {
          "base_uri": "https://localhost:8080/"
        },
        "id": "HBmXXB1K-QMA",
        "outputId": "7407b600-6987-4212-e488-b20137ce8fee"
      },
      "execution_count": 72,
      "outputs": [
        {
          "output_type": "stream",
          "name": "stdout",
          "text": [
            "34\n"
          ]
        }
      ]
    },
    {
      "cell_type": "code",
      "source": [
        "#Write a Python program to construct the following pattern, using a\n",
        "nested for loop.\n",
        "*\n",
        "**\n",
        "***\n",
        "****\n",
        "*****\n",
        "****\n",
        "***\n",
        "**\n",
        "*"
      ],
      "metadata": {
        "id": "6HsGOUGi-iH4"
      },
      "execution_count": null,
      "outputs": []
    },
    {
      "cell_type": "code",
      "source": [
        "n=5\n",
        "for i in range(n):\n",
        "  print(\"*\"*(i+1))\n",
        "for i in range(n,-1,-1):\n",
        "  print(\"*\"*(i+1))"
      ],
      "metadata": {
        "colab": {
          "base_uri": "https://localhost:8080/"
        },
        "id": "Z5g65V-e-tB5",
        "outputId": "a5869231-b1b5-4c8d-d806-ac591827e968"
      },
      "execution_count": 78,
      "outputs": [
        {
          "output_type": "stream",
          "name": "stdout",
          "text": [
            "*\n",
            "**\n",
            "***\n",
            "****\n",
            "*****\n",
            "******\n",
            "*****\n",
            "****\n",
            "***\n",
            "**\n",
            "*\n"
          ]
        }
      ]
    }
  ]
}